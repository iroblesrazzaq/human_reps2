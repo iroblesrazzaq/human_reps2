{
 "cells": [
  {
   "cell_type": "code",
   "execution_count": 6,
   "metadata": {},
   "outputs": [],
   "source": [
    "# function file\n",
    "from data_structures import PatientData\n",
    "from sklearn.base import BaseEstimator\n",
    "from sklearn.svm import LinearSVC\n",
    "from sklearn.preprocessing import StandardScaler\n",
    "from typing import Tuple\n",
    "from sklearn.model_selection import train_test_split\n",
    "import numpy as np\n",
    "from dataclasses import dataclass\n",
    "from typing import Dict, List\n",
    "from sklearn.metrics import accuracy_score, roc_auc_score\n",
    "import matplotlib.pyplot as plt\n",
    "import seaborn as sns\n",
    "from tqdm import tqdm\n",
    "from decoders import generate_pseudopopulations, DecodingResult\n",
    "from multi_decoding import MultiResultsManager, plot_multi_patient_heatmap"
   ]
  },
  {
   "cell_type": "code",
   "execution_count": 7,
   "metadata": {},
   "outputs": [
    {
     "name": "stdout",
     "output_type": "stream",
     "text": [
      "./Data/40m_act_24_S06E01_30fps_character_frames.csv\n",
      "./Data/40m_act_24_S06E01_30fps_character_frames.csv\n",
      "./Data/40m_act_24_S06E01_30fps_character_frames.csv\n"
     ]
    }
   ],
   "source": [
    "p566 = PatientData(pid='566')\n",
    "p563 = PatientData(pid='563')\n",
    "p562 = PatientData(pid='562')"
   ]
  },
  {
   "cell_type": "code",
   "execution_count": 8,
   "metadata": {},
   "outputs": [],
   "source": [
    "THRESHOLD = 0.1\n",
    "\n",
    "\n",
    "p566_fr_neurons = p566.filter_neurons_by_fr(neurons=p566.neurons, window=(p566.times_dict['movie_start_rel'], p566.times_dict['preSleep_recall_start_rel']), threshold=THRESHOLD)\n",
    "p566_mtl_fr_neurons = p566.filter_mtl_neurons(neurons=p566_fr_neurons)\n",
    "\n",
    "p563_fr_neurons = p563.filter_neurons_by_fr(neurons=p563.neurons, window=(p563.times_dict['movie_start_rel'], p563.times_dict['preSleep_recall_start_rel']), threshold=THRESHOLD)\n",
    "p563_mtl_fr_neurons = p563.filter_mtl_neurons(neurons=p563_fr_neurons)\n",
    "\n",
    "p562_fr_neurons = p562.filter_neurons_by_fr(neurons=p562.neurons, window=(p562.times_dict['movie_start_rel'], p562.times_dict['preSleep_recall_start_rel']), threshold=THRESHOLD)\n",
    "p562_mtl_fr_neurons = p562.filter_mtl_neurons(neurons=p562_fr_neurons)\n",
    "\n",
    "neurons_list = [p562_mtl_fr_neurons, p563_mtl_fr_neurons, p566_mtl_fr_neurons]"
   ]
  },
  {
   "cell_type": "code",
   "execution_count": 9,
   "metadata": {},
   "outputs": [
    {
     "data": {
      "text/plain": [
       "[<data_structures.Neuron at 0x31e4f7790>,\n",
       " <data_structures.Neuron at 0x31e4f7950>,\n",
       " <data_structures.Neuron at 0x31e4f7a90>]"
      ]
     },
     "execution_count": 9,
     "metadata": {},
     "output_type": "execute_result"
    }
   ],
   "source": [
    "p562_mtl_fr_neurons"
   ]
  },
  {
   "cell_type": "code",
   "execution_count": 11,
   "metadata": {},
   "outputs": [
    {
     "name": "stdout",
     "output_type": "stream",
     "text": [
      "Number of concept pairs to decode: 55\n",
      "[('A.Amar', 'A.Fayed'), ('A.Amar', 'B.Buchanan'), ('A.Amar', 'C.Manning')]\n"
     ]
    }
   ],
   "source": [
    "concept_pairs_to_decode = []\n",
    "\n",
    "selected_concepts = ['A.Amar',\n",
    "  'A.Fayed',\n",
    "  'B.Buchanan',\n",
    "  'C.Manning',\n",
    "  'C.OBrian',\n",
    "  'J.Bauer',\n",
    "  'K.Hayes',\n",
    "  'M.OBrian',\n",
    "  'N.Yassir',\n",
    "  'R.Wallace',\n",
    "  'T.Lennox',\n",
    "]\n",
    "\n",
    "for i, concept1 in enumerate(selected_concepts[:]):\n",
    "    for concept2 in selected_concepts[i+1:]: #avoid duplicates and self-pairs\n",
    "        concept_pairs_to_decode.append((concept1, concept2))\n",
    "\n",
    "print(f\"Number of concept pairs to decode: {len(concept_pairs_to_decode)}\")\n",
    "print(concept_pairs_to_decode[:3]) # Print first 5 pairs as example\n"
   ]
  },
  {
   "cell_type": "code",
   "execution_count": null,
   "metadata": {},
   "outputs": [],
   "source": [
    "multi_mtl_manager = MultiResultsManager(\n",
    "    patient_data_list=[p562, p563, p566],\n",
    "    concept_pairs=concept_pairs_to_decode,\n",
    "    epoch='movie',\n",
    "    standardize=False,\n",
    "    pseudo=True,\n",
    "    neurons_list=[p562_mtl_fr_neurons, p563_mtl_fr_neurons, p566_mtl_fr_neurons]\n",
    ")"
   ]
  },
  {
   "cell_type": "code",
   "execution_count": null,
   "metadata": {},
   "outputs": [],
   "source": [
    "multi_mtl_manager.run_decoding_for_pairs(num_iter=5)\n"
   ]
  },
  {
   "cell_type": "code",
   "execution_count": null,
   "metadata": {},
   "outputs": [],
   "source": [
    "best_concepts = [\n",
    "    \"A.Fayed\", \n",
    "    \"R.Wallace\", \n",
    "    \"T.Lennox\", \n",
    "    \"N.Yassir\", \n",
    "    \"K.Hayes\", \n",
    "    \"M.OBrian\", \n",
    "    \"J.Bauer\", \n",
    "    \"C.Manning\"\n",
    "]"
   ]
  },
  {
   "cell_type": "code",
   "execution_count": null,
   "metadata": {},
   "outputs": [],
   "source": [
    "plot_multi_patient_heatmap(multi_mtl_manager, metric='test_accuracy', selected_concepts=best_concepts, show_numbers=False)\n",
    "plt.suptitle('Multi-Patient Psuedopopulation Character Decoding Performance\\nPatients: 562, 563, 566\\nMTL neurons only, above 0.1Hz Firing Rate', fontsize=17)\n",
    "#plt.savefig('mtl_multipatient_without_acc')\n",
    "#\n"
   ]
  },
  {
   "cell_type": "markdown",
   "metadata": {},
   "source": [
    "# All areas, neurons above 0.1hz decoding"
   ]
  },
  {
   "cell_type": "code",
   "execution_count": 12,
   "metadata": {},
   "outputs": [],
   "source": [
    "multi_all_manager = MultiResultsManager(\n",
    "    patient_data_list=[p562, p563, p566],\n",
    "    concept_pairs=concept_pairs_to_decode,\n",
    "    epoch='movie',\n",
    "    standardize=False,\n",
    "    pseudo=True,\n",
    "    neurons_list=[p562_fr_neurons, p563_fr_neurons, p566_fr_neurons]\n",
    ")"
   ]
  },
  {
   "cell_type": "code",
   "execution_count": null,
   "metadata": {},
   "outputs": [],
   "source": [
    "multi_all_manager.run_decoding_for_pairs(num_iter=5)\n"
   ]
  },
  {
   "cell_type": "code",
   "execution_count": null,
   "metadata": {},
   "outputs": [],
   "source": [
    "plot_multi_patient_heatmap(multi_all_manager, metric='test_accuracy', selected_concepts=best_concepts, show_numbers=False, center=0.5)\n",
    "plt.suptitle('Multi-Patient Psuedopopulation Character Decoding Performance\\nPatients: 562, 563, 566\\nAll neurons above 0.1Hz Firing Rate', fontsize=17)\n",
    "#plt.savefig('multipatient_without_accuracy_full_spectrum')\n"
   ]
  }
 ],
 "metadata": {
  "kernelspec": {
   "display_name": ".venv",
   "language": "python",
   "name": "python3"
  },
  "language_info": {
   "codemirror_mode": {
    "name": "ipython",
    "version": 3
   },
   "file_extension": ".py",
   "mimetype": "text/x-python",
   "name": "python",
   "nbconvert_exporter": "python",
   "pygments_lexer": "ipython3",
   "version": "3.11.6"
  }
 },
 "nbformat": 4,
 "nbformat_minor": 2
}
