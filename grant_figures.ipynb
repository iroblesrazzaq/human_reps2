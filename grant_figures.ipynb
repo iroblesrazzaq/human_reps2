{
 "cells": [
  {
   "cell_type": "code",
   "execution_count": null,
   "metadata": {},
   "outputs": [],
   "source": [
    "# function file\n",
    "from data_structures import PatientData\n",
    "from sklearn.base import BaseEstimator\n",
    "from sklearn.svm import LinearSVC\n",
    "from sklearn.preprocessing import StandardScaler\n",
    "from typing import Tuple\n",
    "from sklearn.model_selection import train_test_split\n",
    "import numpy as np\n",
    "from dataclasses import dataclass\n",
    "from typing import Dict, List\n",
    "from sklearn.metrics import accuracy_score, roc_auc_score\n",
    "import matplotlib.pyplot as plt\n",
    "import seaborn as sns\n",
    "from tqdm import tqdm\n",
    "from decoders import generate_pseudopopulations, DecodingResult\n",
    "from multi_decoding import MultiResultsManager, plot_multi_patient_heatmap"
   ]
  },
  {
   "cell_type": "code",
   "execution_count": null,
   "metadata": {},
   "outputs": [],
   "source": [
    "p566 = PatientData(pid='566')\n",
    "p563 = PatientData(pid='563')\n",
    "p562 = PatientData(pid='562')"
   ]
  },
  {
   "cell_type": "code",
   "execution_count": null,
   "metadata": {},
   "outputs": [],
   "source": [
    "THRESHOLD = 0.1\n",
    "\n",
    "\n",
    "p566_fr_neurons = p566.filter_neurons_by_fr(neurons=p566.neurons, window=(p566.times_dict['movie_start_rel'], p566.times_dict['preSleep_recall_start_rel']), threshold=THRESHOLD)\n",
    "p566_mtl_fr_neurons = p566.filter_mtl_neurons(neurons=p566_fr_neurons)\n",
    "\n",
    "p563_fr_neurons = p563.filter_neurons_by_fr(neurons=p563.neurons, window=(p563.times_dict['movie_start_rel'], p563.times_dict['preSleep_recall_start_rel']), threshold=THRESHOLD)\n",
    "p563_mtl_fr_neurons = p563.filter_mtl_neurons(neurons=p563_fr_neurons)\n",
    "\n",
    "p562_fr_neurons = p562.filter_neurons_by_fr(neurons=p562.neurons, window=(p562.times_dict['movie_start_rel'], p562.times_dict['preSleep_recall_start_rel']), threshold=THRESHOLD)\n",
    "p562_mtl_fr_neurons = p562.filter_mtl_neurons(neurons=p562_fr_neurons)\n",
    "\n",
    "neurons_list = [p562_mtl_fr_neurons, p563_mtl_fr_neurons, p566_mtl_fr_neurons]"
   ]
  },
  {
   "cell_type": "code",
   "execution_count": null,
   "metadata": {},
   "outputs": [],
   "source": [
    "p562_mtl_fr_neurons"
   ]
  },
  {
   "cell_type": "code",
   "execution_count": null,
   "metadata": {},
   "outputs": [],
   "source": [
    "concept_pairs_to_decode = []\n",
    "\n",
    "selected_concepts = ['A.Amar',\n",
    "  'A.Fayed',\n",
    "  'B.Buchanan',\n",
    "  'C.Manning',\n",
    "  'C.OBrian',\n",
    "  'J.Bauer',\n",
    "  'K.Hayes',\n",
    "  'M.OBrian',\n",
    "  'N.Yassir',\n",
    "  'R.Wallace',\n",
    "  'T.Lennox',\n",
    "]\n",
    "\n",
    "for i, concept1 in enumerate(selected_concepts[:]):\n",
    "    for concept2 in selected_concepts[i+1:]: #avoid duplicates and self-pairs\n",
    "        concept_pairs_to_decode.append((concept1, concept2))\n",
    "\n",
    "print(f\"Number of concept pairs to decode: {len(concept_pairs_to_decode)}\")\n",
    "print(concept_pairs_to_decode[:3]) # Print first 5 pairs as example\n"
   ]
  },
  {
   "cell_type": "code",
   "execution_count": null,
   "metadata": {},
   "outputs": [],
   "source": [
    "multi_mtl_manager = MultiResultsManager(\n",
    "    patient_data_list=[p562, p563, p566],\n",
    "    concept_pairs=concept_pairs_to_decode,\n",
    "    epoch='movie',\n",
    "    standardize=False,\n",
    "    pseudo=True,\n",
    "    neurons_list=[p562_mtl_fr_neurons, p563_mtl_fr_neurons, p566_mtl_fr_neurons]\n",
    ")"
   ]
  },
  {
   "cell_type": "code",
   "execution_count": null,
   "metadata": {},
   "outputs": [],
   "source": [
    "multi_mtl_manager.run_decoding_for_pairs(num_iter=5)\n"
   ]
  },
  {
   "cell_type": "code",
   "execution_count": null,
   "metadata": {},
   "outputs": [],
   "source": [
    "best_concepts = [\n",
    "    \"A.Fayed\", \n",
    "    \"R.Wallace\", \n",
    "    \"T.Lennox\", \n",
    "    \"N.Yassir\", \n",
    "    \"K.Hayes\", \n",
    "    \"M.OBrian\", \n",
    "    \"J.Bauer\", \n",
    "    \"C.Manning\"\n",
    "]"
   ]
  },
  {
   "cell_type": "code",
   "execution_count": null,
   "metadata": {},
   "outputs": [],
   "source": [
    "plot_multi_patient_heatmap(multi_mtl_manager, metric='test_accuracy', selected_concepts=best_concepts, show_numbers=False)\n",
    "plt.suptitle('Multi-Patient Psuedopopulation Character Decoding Performance\\nPatients: 562, 563, 566\\nMTL neurons only, above 0.1Hz Firing Rate', fontsize=17)\n",
    "#plt.savefig('mtl_multipatient_without_acc')\n",
    "#\n"
   ]
  },
  {
   "cell_type": "markdown",
   "metadata": {},
   "source": [
    "# All areas, neurons above 0.1hz decoding"
   ]
  },
  {
   "cell_type": "code",
   "execution_count": null,
   "metadata": {},
   "outputs": [],
   "source": [
    "multi_all_manager = MultiResultsManager(\n",
    "    patient_data_list=[p562, p563, p566],\n",
    "    concept_pairs=concept_pairs_to_decode,\n",
    "    epoch='movie',\n",
    "    standardize=False,\n",
    "    pseudo=True,\n",
    "    neurons_list=[p562_fr_neurons, p563_fr_neurons, p566_fr_neurons]\n",
    ")"
   ]
  },
  {
   "cell_type": "code",
   "execution_count": null,
   "metadata": {},
   "outputs": [],
   "source": [
    "multi_all_manager.run_decoding_for_pairs(num_iter=5)\n"
   ]
  },
  {
   "cell_type": "code",
   "execution_count": null,
   "metadata": {},
   "outputs": [],
   "source": [
    "plot_multi_patient_heatmap(multi_all_manager, metric='test_accuracy', selected_concepts=best_concepts, show_numbers=False, center=0.5)\n",
    "plt.suptitle('Multi-Patient Psuedopopulation Character Decoding Performance\\nPatients: 562, 563, 566\\nAll neurons above 0.1Hz Firing Rate', fontsize=17)\n",
    "#plt.savefig('multipatient_without_accuracy_full_spectrum')\n"
   ]
  },
  {
   "cell_type": "markdown",
   "metadata": {},
   "source": [
    "## Figs for Soraya - MTL neurons, 0.1hz dropout, only best patient - p563, with pseudopopulations and without, 6x6 best concept and 3x3 best concepts\n"
   ]
  },
  {
   "cell_type": "markdown",
   "metadata": {},
   "source": [
    "### with pseudopops:"
   ]
  },
  {
   "cell_type": "code",
   "execution_count": null,
   "metadata": {},
   "outputs": [],
   "source": [
    "selected_concepts = [\n",
    "    'A.Amar',\n",
    "    'A.Fayed',\n",
    "    'B.Buchanan',\n",
    "    'C.Manning',\n",
    "    'C.OBrian',\n",
    "    'J.Bauer',\n",
    "    'K.Hayes',\n",
    "    'M.OBrian',\n",
    "    'N.Yassir',\n",
    "    'R.Wallace',\n",
    "    'T.Lennox',\n",
    "]\n",
    "# Create all possible pairs of concepts\n",
    "concept_pairs_to_decode = []\n",
    "for i, concept1 in enumerate(selected_concepts):\n",
    "    for concept2 in selected_concepts[i+1:]: # avoid duplicates and self-pairs\n",
    "        concept_pairs_to_decode.append((concept1, concept2))\n",
    "\n",
    "print(f\"Number of concept pairs to decode: {len(concept_pairs_to_decode)}\")\n",
    "\n"
   ]
  },
  {
   "cell_type": "code",
   "execution_count": null,
   "metadata": {},
   "outputs": [],
   "source": [
    "p563_mtl_manager = MultiResultsManager(\n",
    "    patient_data_list=[p563],  # Passing p563 as a single-item list\n",
    "    concept_pairs=concept_pairs_to_decode,\n",
    "    epoch='movie',\n",
    "    standardize=False,\n",
    "    pseudo=True,  # Using pseudopopulations\n",
    "    neurons_list=[p563_mtl_fr_neurons]  # MTL neurons for p563\n",
    ")\n",
    "\n",
    "# Run the decoding with 5 iterations for more reliable results\n",
    "p563_mtl_manager.run_decoding_for_pairs(num_iter=5)\n"
   ]
  },
  {
   "cell_type": "code",
   "execution_count": null,
   "metadata": {},
   "outputs": [],
   "source": [
    "plot_multi_patient_heatmap(p563_mtl_manager, metric='test_accuracy', selected_concepts=best_concepts, show_numbers=True, center=0.5)\n"
   ]
  },
  {
   "cell_type": "code",
   "execution_count": null,
   "metadata": {},
   "outputs": [],
   "source": [
    "best_six_concepts = [\n",
    "    'A.Fayed',\n",
    "    'T.Lennox',\n",
    "    'M.OBrian',\n",
    "    'K.Hayes',\n",
    "    'J.Bauer',\n",
    "    'N.Yassir'\n",
    "]\n",
    "\n",
    "best_three_concepts = [\n",
    "    'A.Fayed',\n",
    "    'T.Lennox',\n",
    "    'M.OBrian'\n",
    "]\n"
   ]
  },
  {
   "cell_type": "code",
   "execution_count": null,
   "metadata": {},
   "outputs": [],
   "source": [
    "plot_multi_patient_heatmap(p563_mtl_manager, metric='test_accuracy', \n",
    "    selected_concepts=best_six_concepts, show_numbers=False, vmin=0, vmax=1.0, center=0.5)\n",
    "plt.suptitle('Patient 563 Psuedopopulation 6 Characters Decoding Performance\\nMTL neurons only, above 0.1Hz Firing Rate')\n",
    "plt.savefig('563_mtl_pseudo_no_text_0-1')\n"
   ]
  },
  {
   "cell_type": "code",
   "execution_count": null,
   "metadata": {},
   "outputs": [],
   "source": [
    "plot_multi_patient_heatmap(p563_mtl_manager, metric='test_accuracy', \n",
    "    selected_concepts=best_three_concepts, show_numbers=False, vmin=0, vmax=1.0, center=0.5)\n",
    "plt.suptitle('Patient 563 Psuedopopulation 3 Characters Decoding Performance\\nMTL neurons only, above 0.1Hz Firing Rate')\n",
    "plt.savefig('563_mtl_pseudo_3chars_no_text_0-1')\n"
   ]
  },
  {
   "cell_type": "code",
   "execution_count": null,
   "metadata": {},
   "outputs": [],
   "source": []
  },
  {
   "cell_type": "markdown",
   "metadata": {},
   "source": [
    "Methods paragraph for Soraya\n",
    "- character presence requires onset - off screen/not present to present. \n",
    "- for decoding pairs, we use exclusive onsets, character onsets where the other character being decoded is not present\n",
    "- 1s bins starting 0.2 seconds after character onset in movie, corresponding to delay in MTL neuron response\n",
    "- use pseudopopulations to augment data, even out number of classes - randomly sample train and test splits of each concept in the decoding pair to augment data size to 200 train and 60 test per concept in each decoding pair, so each decoder is trained on 400 and tested on 120 combined real and pseudopopulation responses.\n",
    "- we use a linear SVM to decode between the characters to find the decoding hyperplane\n",
    "- average performance across 5 iterations of the entire process, then generate heatmaps on average accuracy"
   ]
  },
  {
   "cell_type": "markdown",
   "metadata": {},
   "source": [
    "We defined character presence by onset transitions from off-screen to on-screen, specifically utilizing exclusive onsets where the target character appeared while the comparison character remained absent. Neural activity was binned in 1-second windows beginning 200ms post-onset to capture the temporal dynamics of MTL responses. To address limited sample availability in human recordings, we employed pseudopopulation augmentation techniques, randomly sampling from observed neural responses to generate balanced datasets containing 200 training and 60 testing examples per character (400 training, 120 testing samples total per decoder). Character discrimination was performed using linear Support Vector Machines to establish optimal decoding hyperplanes between neural representations. Performance metrics were averaged across five independent iterations of the entire procedure to ensure statistical reliability. The resulting accuracy values were visualized as heatmaps displaying the discriminability between character representations in MTL neural populations."
   ]
  }
 ],
 "metadata": {
  "kernelspec": {
   "display_name": ".venv",
   "language": "python",
   "name": "python3"
  },
  "language_info": {
   "codemirror_mode": {
    "name": "ipython",
    "version": 3
   },
   "file_extension": ".py",
   "mimetype": "text/x-python",
   "name": "python",
   "nbconvert_exporter": "python",
   "pygments_lexer": "ipython3",
   "version": "3.11.6"
  }
 },
 "nbformat": 4,
 "nbformat_minor": 2
}
