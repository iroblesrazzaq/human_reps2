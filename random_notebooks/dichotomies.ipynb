{
 "cells": [
  {
   "cell_type": "markdown",
   "metadata": {},
   "source": [
    "# TODO:\n",
    "- check for meaningful dichotomies, look at PCA space for geometry if find any\n",
    "- ensure multiple iterations per decoding pair group work\n",
    "- revise classes in multi decoding: concept decoder, concept dataset, multiresultsmanager (should be not super big changes)\n",
    "- decode across patients - without and with pseudopops"
   ]
  },
  {
   "cell_type": "code",
   "execution_count": null,
   "metadata": {},
   "outputs": [],
   "source": [
    "from itertools import combinations\n",
    "import numpy as np\n",
    "import matplotlib.pyplot as plt\n",
    "from data_structures import PatientData\n",
    "from decoders import ConceptDecoder, SingleResultsManager\n",
    "from sklearn.svm import LinearSVC\n",
    "from copy import deepcopy\n"
   ]
  },
  {
   "cell_type": "markdown",
   "metadata": {},
   "source": [
    "generate 35 permutations of 4 groups - 8 choose 4, but will some repeats where incl = x, excl = y vs incl = y, excl = x"
   ]
  },
  {
   "cell_type": "code",
   "execution_count": null,
   "metadata": {},
   "outputs": [],
   "source": [
    "def generate_consistent_combinations(strings_list, group_size):\n",
    "    all_combos = list(combinations(strings_list, group_size))\n",
    "    unique_pairs = []\n",
    "    seen = set()\n",
    "    \n",
    "    for combo in all_combos:\n",
    "        # Find the complement (the 4 items not in this combination)\n",
    "        complement = tuple(c for c in strings_list if c not in combo)\n",
    "        \n",
    "        # order is alphabetic so we end up with duplicate (s1, s2), (s1, s2) instead of (s1, s2), (s2, s1)\n",
    "        if combo < complement:\n",
    "            pair = (combo, complement)\n",
    "        else:\n",
    "            pair = (complement, combo)\n",
    "\n",
    "        pair_str = str(pair)  \n",
    "        if pair_str not in seen:\n",
    "            unique_pairs.append(pair)\n",
    "            seen.add(pair_str)\n",
    "    \n",
    "    return unique_pairs"
   ]
  },
  {
   "cell_type": "code",
   "execution_count": null,
   "metadata": {},
   "outputs": [],
   "source": [
    "best_concepts = [\n",
    "    \"A.Fayed\", \n",
    "    \"R.Wallace\", \n",
    "    \"T.Lennox\", \n",
    "    \"N.Yassir\", \n",
    "    \"K.Hayes\", \n",
    "    \"M.OBrian\", \n",
    "    \"J.Bauer\", \n",
    "    \"C.Manning\"\n",
    "]\n",
    "t = generate_consistent_combinations(best_concepts, 4)"
   ]
  },
  {
   "cell_type": "markdown",
   "metadata": {},
   "source": [
    "# Proof of concept: p563 MTL neurons only, 1 iteration"
   ]
  },
  {
   "cell_type": "code",
   "execution_count": null,
   "metadata": {},
   "outputs": [],
   "source": [
    "p563 = PatientData(pid='563')\n",
    "\n",
    "# Set a threshold for neuron filtering\n",
    "THRESHOLD = 0.1  # firing rate threshold\n",
    "\n",
    "p563_fr_neurons = p563.filter_neurons_by_fr(\n",
    "    neurons=p563.neurons, \n",
    "    window=(p563.times_dict['movie_start_rel'], p563.times_dict['preSleep_recall_start_rel']), \n",
    "    threshold=THRESHOLD\n",
    ")\n",
    "p563_mtl_fr_neurons = p563.filter_mtl_neurons(neurons=p563_fr_neurons)\n"
   ]
  },
  {
   "cell_type": "code",
   "execution_count": null,
   "metadata": {},
   "outputs": [],
   "source": [
    "combinations[0]"
   ]
  },
  {
   "cell_type": "code",
   "execution_count": null,
   "metadata": {},
   "outputs": [],
   "source": [
    "group_manager = SingleResultsManager(\n",
    "    patient_data=p563,\n",
    "    concept_items=combinations,  # Note: using 'concept_items' instead of 'concept_pairs'\n",
    "    epoch='movie',\n",
    "    classifier=LinearSVC(random_state=42),\n",
    "    standardize=True,\n",
    "    pseudo=False,  # Use pseudopopulations for balanced datasets\n",
    "    neurons=p563_mtl_fr_neurons\n",
    ")\n"
   ]
  },
  {
   "cell_type": "code",
   "execution_count": null,
   "metadata": {},
   "outputs": [],
   "source": [
    "num_iterations = 1\n",
    "group_manager.run_decoding(num_iter=num_iterations)  # Using the new method name\n"
   ]
  },
  {
   "cell_type": "code",
   "execution_count": null,
   "metadata": {},
   "outputs": [],
   "source": [
    "def plot_dichotomy_performance_with_key(results_manager, dichotomy_list, metric='test_roc_auc', figsize=(15, 12), title_suffix=\"\"):\n",
    "    \"\"\"\n",
    "    Plots decoding performance for dichotomies (1-N) and adds a text key below\n",
    "    mapping numbers to the actual group comparisons.\n",
    "\n",
    "    Args:\n",
    "        results_manager: A SingleResultsManager object that has run decoding\n",
    "                         on the items in dichotomy_list.\n",
    "        dichotomy_list: The list of group-vs-group tuples exactly as used\n",
    "                        when running the results_manager. The order determines\n",
    "                        the x-axis order (1-N).\n",
    "        metric (str): The performance metric from DecodingResult to plot.\n",
    "        figsize (tuple): Figure size for the *entire* plot (bars + text key).\n",
    "        title_suffix (str): Optional text to append to the plot title.\n",
    "    \"\"\"\n",
    "    if not results_manager.results:\n",
    "        print(\"Error: results_manager has no results. Did you run run_decoding?\")\n",
    "        return None\n",
    "\n",
    "    expected_num_dichotomies = len(dichotomy_list)\n",
    "    print(f\"Expecting {expected_num_dichotomies} dichotomies based on input list.\")\n",
    "\n",
    "    performance_means = []\n",
    "    performance_stds = []\n",
    "    dichotomy_labels_numeric = [str(i + 1) for i in range(expected_num_dichotomies)]\n",
    "    key_strings = [] # To store formatted strings for the text key\n",
    "\n",
    "    found_count = 0\n",
    "    missing_keys_indices = []\n",
    "\n",
    "    # --- Data Processing ---\n",
    "    for i, dichotomy_key in enumerate(dichotomy_list):\n",
    "        # Format the key string regardless of results being present\n",
    "        group1, group2 = dichotomy_key\n",
    "        group1_str = '+'.join(group1)\n",
    "        group2_str = '+'.join(group2)\n",
    "        key_strings.append(f\"{i+1}: ({group1_str}) vs ({group2_str})\")\n",
    "\n",
    "        if dichotomy_key in results_manager.results:\n",
    "            results_for_key = results_manager.results[dichotomy_key]\n",
    "            if results_for_key:\n",
    "                try:\n",
    "                    values = [getattr(r, metric) for r in results_for_key]\n",
    "                    performance_means.append(np.mean(values))\n",
    "                    performance_stds.append(np.std(values))\n",
    "                    found_count += 1\n",
    "                except AttributeError:\n",
    "                    print(f\"Error: Metric '{metric}' not found for dichotomy {i+1}. Plotting NaN.\")\n",
    "                    performance_means.append(np.nan)\n",
    "                    performance_stds.append(np.nan)\n",
    "                except Exception as e:\n",
    "                     print(f\"Error processing results for dichotomy {i+1}: {e}\")\n",
    "                     performance_means.append(np.nan)\n",
    "                     performance_stds.append(np.nan)\n",
    "            else:\n",
    "                performance_means.append(np.nan)\n",
    "                performance_stds.append(np.nan)\n",
    "                missing_keys_indices.append(i + 1)\n",
    "        else:\n",
    "            performance_means.append(np.nan)\n",
    "            performance_stds.append(np.nan)\n",
    "            missing_keys_indices.append(i + 1)\n",
    "\n",
    "    print(f\"Processed results for {found_count}/{expected_num_dichotomies} dichotomies.\")\n",
    "    if missing_keys_indices:\n",
    "         print(f\"Missing or empty results for dichotomies (numbered 1 to {expected_num_dichotomies}): {sorted(list(set(missing_keys_indices)))}\")\n",
    "\n",
    "\n",
    "    # --- Plotting ---\n",
    "    fig = plt.figure(figsize=figsize)\n",
    "\n",
    "    # Define grid: 2 rows, 1 column. Top plot (bars) taller than bottom (text).\n",
    "    # Adjust height_ratios if needed (e.g., [4, 1] for more space for bars)\n",
    "    gs = gridspec.GridSpec(2, 1, height_ratios=[3, 1])\n",
    "\n",
    "    # --- Top Subplot: Bar Chart ---\n",
    "    ax_bar = fig.add_subplot(gs[0])\n",
    "\n",
    "    x_positions = np.arange(expected_num_dichotomies)\n",
    "    plot_stds = np.array(performance_stds)\n",
    "    plot_stds[np.isnan(performance_means)] = 0 # Avoid error bars for NaN means\n",
    "\n",
    "    ax_bar.bar(x_positions,\n",
    "               np.nan_to_num(performance_means, nan=0.0),\n",
    "               yerr=plot_stds,\n",
    "               align='center',\n",
    "               alpha=0.75,\n",
    "               ecolor='black',\n",
    "               capsize=4)\n",
    "\n",
    "    ax_bar.set_ylabel(f'{metric.replace(\"_\", \" \").title()}')\n",
    "    # Remove x-label from bar chart, it's implied by the key below\n",
    "    ax_bar.set_xlabel('')\n",
    "    ax_bar.set_xticks(x_positions)\n",
    "    ax_bar.set_xticklabels(dichotomy_labels_numeric, rotation=90, fontsize=8)\n",
    "\n",
    "    if \"roc_auc\" in metric.lower() or \"accuracy\" in metric.lower():\n",
    "         ax_bar.set_ylim(0.0, 1.05)\n",
    "         ax_bar.axhline(0.5, color='grey', linestyle='--', linewidth=0.8, label='Chance (0.5)')\n",
    "         ax_bar.legend(loc='lower right')\n",
    "\n",
    "    ax_bar.grid(axis='y', linestyle=':', linewidth=0.5) # Add horizontal grid lines\n",
    "\n",
    "    # --- Bottom Subplot: Text Key ---\n",
    "    ax_text = fig.add_subplot(gs[1])\n",
    "    ax_text.axis('off') # Hide axes lines and ticks\n",
    "\n",
    "    # Calculate positions for text lines\n",
    "    num_lines = len(key_strings)\n",
    "    # Split into two columns if too many lines\n",
    "    if num_lines > 20: # Adjust this threshold as needed\n",
    "        split_point = (num_lines + 1) // 2\n",
    "        col1_strings = key_strings[:split_point]\n",
    "        col2_strings = key_strings[split_point:]\n",
    "        max_lines_per_col = split_point\n",
    "\n",
    "        # Column 1\n",
    "        y_start = 0.95\n",
    "        y_step = 1.0 / (max_lines_per_col + 1) if max_lines_per_col > 0 else 1.0\n",
    "        for i, line in enumerate(col1_strings):\n",
    "            ax_text.text(0.01, y_start - i * y_step, line,\n",
    "                         ha='left', va='top', fontsize=7, family='monospace')\n",
    "        # Column 2\n",
    "        for i, line in enumerate(col2_strings):\n",
    "             ax_text.text(0.51, y_start - i * y_step, line,\n",
    "                          ha='left', va='top', fontsize=7, family='monospace')\n",
    "\n",
    "    else:\n",
    "        # Single column\n",
    "        y_start = 0.95\n",
    "        y_step = 1.0 / (num_lines + 1) if num_lines > 0 else 1.0\n",
    "        for i, line in enumerate(key_strings):\n",
    "            ax_text.text(0.01, y_start - i * y_step, line,\n",
    "                         ha='left', va='top', fontsize=9, family='monospace')\n",
    "\n",
    "\n",
    "    # --- Overall Figure Title ---\n",
    "    patient_id = results_manager.patient_data.pid\n",
    "    epoch = results_manager.epoch\n",
    "    base_title = f'Group Decoding Performance for {expected_num_dichotomies} Dichotomies'\n",
    "    full_title = f'{base_title}\\nPatient {patient_id}, Epoch: {epoch}'\n",
    "    if title_suffix:\n",
    "        full_title += f\" - {title_suffix}\"\n",
    "    fig.suptitle(full_title, y=0.99) # Adjust y if title overlaps top plot\n",
    "\n",
    "    # Adjust layout - rect might need tuning depending on title length\n",
    "    plt.tight_layout(rect=[0, 0.03, 1, 0.96])\n",
    "    plt.show()\n",
    "\n",
    "    # Optionally return the processed data\n",
    "    #return {'dichotomy_num': dichotomy_labels_numeric, 'mean_perf': performance_means, 'std_perf': performance_stds, 'key': key_strings}"
   ]
  },
  {
   "cell_type": "code",
   "execution_count": null,
   "metadata": {},
   "outputs": [],
   "source": [
    "plot_dichotomy_performance_with_key(group_manager, combinations, metric='test_roc_auc')\n"
   ]
  },
  {
   "cell_type": "markdown",
   "metadata": {},
   "source": [
    "# Group decoding 2: p563 pseudopops\n",
    "possibilities:\n",
    "- pseudo\n",
    "- multiple patients\n",
    "- multiple iters (multiplies amount of time decoding)\n",
    "\n",
    "for now, lets do pseudo, have to imp for multiple patients (revising the multi_decoding classes) - i messed up cuz multiple manager was flexible to all sizes, shouldn't be too bad tho."
   ]
  },
  {
   "cell_type": "code",
   "execution_count": null,
   "metadata": {},
   "outputs": [],
   "source": [
    "pseudo_group_manager = SingleResultsManager(\n",
    "    patient_data=p563,\n",
    "    concept_items=combinations,  # Note: using 'concept_items' instead of 'concept_pairs'\n",
    "    epoch='movie',\n",
    "    classifier=LinearSVC(random_state=42),\n",
    "    standardize=True,\n",
    "    pseudo=True,  # Use pseudopopulations for balanced datasets\n",
    "    neurons=p563_mtl_fr_neurons\n",
    ")\n"
   ]
  },
  {
   "cell_type": "code",
   "execution_count": null,
   "metadata": {},
   "outputs": [],
   "source": [
    "num_iter = 1\n",
    "pseudo_group_manager.run_decoding(num_iter=num_iter)"
   ]
  },
  {
   "cell_type": "code",
   "execution_count": null,
   "metadata": {},
   "outputs": [],
   "source": [
    "plot_dichotomy_performance_with_key(pseudo_group_manager, combinations, metric='test_roc_auc')"
   ]
  },
  {
   "cell_type": "markdown",
   "metadata": {},
   "source": [
    "# Next step - identify potentially meaningful dichotomies\n",
    "\n",
    "- use claude to generate potentially relevant axes"
   ]
  },
  {
   "cell_type": "code",
   "execution_count": null,
   "metadata": {},
   "outputs": [],
   "source": [
    "# iter 1 claude dichotomies\n",
    "character_groupings = {\n",
    "    \"Action-Oriented vs. Strategic-Planning\": (\n",
    "        (\"J.Bauer\", \"A.Fayed\", \"C.Manning\", \"R.Wallace\"),\n",
    "        (\"T.Lennox\", \"K.Hayes\", \"N.Yassir\", \"M.OBrian\")\n",
    "    ),\n",
    "    \n",
    "    \"Leaders vs. Operational Support\": (\n",
    "        (\"T.Lennox\", \"K.Hayes\", \"A.Fayed\", \"J.Bauer\"),\n",
    "        (\"N.Yassir\", \"M.OBrian\", \"C.Manning\", \"R.Wallace\")\n",
    "    ),\n",
    "    \n",
    "    \"Risk Acceptance vs. Risk Aversion\": (\n",
    "        (\"J.Bauer\", \"A.Fayed\", \"R.Wallace\", \"M.OBrian\"),\n",
    "        (\"T.Lennox\", \"K.Hayes\", \"N.Yassir\", \"C.Manning\")\n",
    "    ),\n",
    "    \n",
    "    \"Moral Absolutism vs. Moral Pragmatism\": (\n",
    "        (\"K.Hayes\", \"R.Wallace\", \"A.Fayed\", \"J.Bauer\"),\n",
    "        (\"T.Lennox\", \"N.Yassir\", \"C.Manning\", \"M.OBrian\")\n",
    "    ),\n",
    "    \n",
    "    \"Individual Agency vs. Systems Thinking\": (\n",
    "        (\"J.Bauer\", \"A.Fayed\", \"R.Wallace\", \"M.OBrian\"),\n",
    "        (\"T.Lennox\", \"K.Hayes\", \"N.Yassir\", \"C.Manning\")\n",
    "    )\n",
    "}"
   ]
  },
  {
   "cell_type": "code",
   "execution_count": null,
   "metadata": {},
   "outputs": [],
   "source": [
    "char_groupings = deepcopy(character_groupings)\n",
    "for name, group in char_groupings.items():\n",
    "    t1, t2 = group\n",
    "    s1, s2 = set(t1), set(t2)\n",
    "    for i, group_tup in enumerate(stable_groups):\n",
    "        g1, _ = group_tup\n",
    "        comb_s1  = set(g1)\n",
    "        if s1 == comb_s1 or s2 == comb_s1:\n",
    "            character_groupings[name] = [i, group]\n",
    "character_groupings"
   ]
  },
  {
   "cell_type": "markdown",
   "metadata": {},
   "source": [
    "# Decoding 3: multiple patient pseudopops"
   ]
  },
  {
   "cell_type": "markdown",
   "metadata": {},
   "source": [
    "idea: 2x2 concept decoding: man vs woman axis, white vs arab descent axis\n",
    "\n",
    " K Hayes - T Lennox\n",
    "\n",
    "Y Nassir - A Fayed\n",
    "\n"
   ]
  },
  {
   "cell_type": "code",
   "execution_count": null,
   "metadata": {},
   "outputs": [],
   "source": []
  },
  {
   "cell_type": "code",
   "execution_count": null,
   "metadata": {},
   "outputs": [],
   "source": []
  }
 ],
 "metadata": {
  "kernelspec": {
   "display_name": ".venv",
   "language": "python",
   "name": "python3"
  },
  "language_info": {
   "codemirror_mode": {
    "name": "ipython",
    "version": 3
   },
   "file_extension": ".py",
   "mimetype": "text/x-python",
   "name": "python",
   "nbconvert_exporter": "python",
   "pygments_lexer": "ipython3",
   "version": "3.11.6"
  }
 },
 "nbformat": 4,
 "nbformat_minor": 2
}
