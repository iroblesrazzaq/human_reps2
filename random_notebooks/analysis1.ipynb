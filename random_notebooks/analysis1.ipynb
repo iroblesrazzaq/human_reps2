{
 "cells": [
  {
   "cell_type": "code",
   "execution_count": null,
   "metadata": {},
   "outputs": [],
   "source": [
    "import numpy as np\n",
    "import matplotlib.pyplot as plt\n",
    "import seaborn as sns\n",
    "from sklearn.manifold import MDS\n",
    "from sklearn.metrics import pairwise_distances\n",
    "import pandas as pd\n",
    "from tqdm import tqdm\n",
    "import os\n",
    "\n",
    "# Import project-specific modules\n",
    "from data_structures import PatientData\n",
    "from decoders import ConceptDecoder, SingleResultsManager\n",
    "from multi_decoding import MultiResultsManager, plot_multi_patient_heatmap"
   ]
  },
  {
   "cell_type": "code",
   "execution_count": null,
   "metadata": {},
   "outputs": [],
   "source": [
    "p562 = PatientData(pid='562')\n",
    "p563 = PatientData(pid='563')\n",
    "p566 = PatientData(pid='566')\n",
    "\n",
    "\n",
    "THRESHOLD = 0.1  # fr threshold\n"
   ]
  },
  {
   "cell_type": "code",
   "execution_count": null,
   "metadata": {},
   "outputs": [],
   "source": [
    "p562_fr_neurons = p562.filter_neurons_by_fr(\n",
    "    neurons=p562.neurons, \n",
    "    window=(p562.times_dict['movie_start_rel'], p562.times_dict['preSleep_recall_start_rel']), \n",
    "    threshold=THRESHOLD\n",
    ")\n",
    "p562_mtl_fr_neurons = p562.filter_mtl_neurons(neurons=p562_fr_neurons)\n",
    "\n",
    "# Patient 563\n",
    "p563_fr_neurons = p563.filter_neurons_by_fr(\n",
    "    neurons=p563.neurons, \n",
    "    window=(p563.times_dict['movie_start_rel'], p563.times_dict['preSleep_recall_start_rel']), \n",
    "    threshold=THRESHOLD\n",
    ")\n",
    "p563_mtl_fr_neurons = p563.filter_mtl_neurons(neurons=p563_fr_neurons)\n",
    "\n",
    "# Patient 566\n",
    "p566_fr_neurons = p566.filter_neurons_by_fr(\n",
    "    neurons=p566.neurons, \n",
    "    window=(p566.times_dict['movie_start_rel'], p566.times_dict['preSleep_recall_start_rel']), \n",
    "    threshold=THRESHOLD\n",
    ")\n",
    "p566_mtl_fr_neurons = p566.filter_mtl_neurons(neurons=p566_fr_neurons)\n",
    "\n",
    "# Create lists for multi-patient analysis\n",
    "neurons_list = [p562_mtl_fr_neurons, p563_mtl_fr_neurons, p566_mtl_fr_neurons]\n",
    "patient_data_list = [p562, p563, p566]\n"
   ]
  },
  {
   "cell_type": "code",
   "execution_count": null,
   "metadata": {},
   "outputs": [],
   "source": [
    "print(f\"Patient 562: {len(p562_mtl_fr_neurons)} MTL neurons (from {len(p562_fr_neurons)} active neurons)\")\n",
    "print(f\"Patient 563: {len(p563_mtl_fr_neurons)} MTL neurons (from {len(p563_fr_neurons)} active neurons)\")\n",
    "print(f\"Patient 566: {len(p566_mtl_fr_neurons)} MTL neurons (from {len(p566_fr_neurons)} active neurons)\")\n"
   ]
  },
  {
   "cell_type": "code",
   "execution_count": null,
   "metadata": {},
   "outputs": [],
   "source": [
    "selected_concepts = [\n",
    "    'A.Amar',\n",
    "    'A.Fayed',\n",
    "    'B.Buchanan',\n",
    "    'C.Manning',\n",
    "    'C.OBrian',\n",
    "    'J.Bauer',\n",
    "    'K.Hayes',\n",
    "    'M.OBrian',\n",
    "    'N.Yassir',\n",
    "    'R.Wallace',\n",
    "    'T.Lennox',\n",
    "]\n"
   ]
  },
  {
   "cell_type": "code",
   "execution_count": null,
   "metadata": {},
   "outputs": [],
   "source": [
    "concept_pairs_to_decode = []\n",
    "for i, concept1 in enumerate(selected_concepts):\n",
    "    for concept2 in selected_concepts[i+1:]:  # Avoid duplicates and self-pairs\n",
    "        concept_pairs_to_decode.append((concept1, concept2))\n",
    "\n",
    "print(f\"Number of concept pairs to decode: {len(concept_pairs_to_decode)}\")\n"
   ]
  },
  {
   "cell_type": "code",
   "execution_count": null,
   "metadata": {},
   "outputs": [],
   "source": [
    "multi_mtl_manager = MultiResultsManager(\n",
    "    patient_data_list=patient_data_list,\n",
    "    concept_pairs=concept_pairs_to_decode,\n",
    "    epoch='movie',\n",
    "    standardize=False,\n",
    "    pseudo=True,  # Use pseudopopulations to balance dataset\n",
    "    neurons_list=neurons_list\n",
    ")\n",
    "\n",
    "# Run decoding with multiple iterations for robustness\n",
    "num_iterations = 3  # Can increase for more stable results\n",
    "multi_mtl_manager.run_decoding_for_pairs(num_iter=num_iterations)\n"
   ]
  },
  {
   "cell_type": "code",
   "execution_count": null,
   "metadata": {},
   "outputs": [],
   "source": [
    "patient_data_list=[p562]"
   ]
  },
  {
   "cell_type": "code",
   "execution_count": null,
   "metadata": {},
   "outputs": [],
   "source": [
    "multi_mtl_no_pseudo = MultiResultsManager(patient_data_list=patient_data_list,\n",
    "    concept_pairs=concept_pairs_to_decode,\n",
    "    epoch='movie',\n",
    "    standardize=False,\n",
    "    pseudo=False,  # Use pseudopopulations to balance dataset\n",
    "    neurons_list=neurons_list\n",
    ")\n"
   ]
  },
  {
   "cell_type": "code",
   "execution_count": null,
   "metadata": {},
   "outputs": [],
   "source": [
    "\n",
    "multi_mtl_no_pseudo.run_decoding_for_pairs(1)"
   ]
  },
  {
   "cell_type": "code",
   "execution_count": null,
   "metadata": {},
   "outputs": [],
   "source": []
  }
 ],
 "metadata": {
  "kernelspec": {
   "display_name": ".venv",
   "language": "python",
   "name": "python3"
  },
  "language_info": {
   "codemirror_mode": {
    "name": "ipython",
    "version": 3
   },
   "file_extension": ".py",
   "mimetype": "text/x-python",
   "name": "python",
   "nbconvert_exporter": "python",
   "pygments_lexer": "ipython3",
   "version": "3.11.6"
  }
 },
 "nbformat": 4,
 "nbformat_minor": 2
}
