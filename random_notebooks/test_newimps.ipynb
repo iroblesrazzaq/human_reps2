{
 "cells": [
  {
   "cell_type": "code",
   "execution_count": null,
   "metadata": {},
   "outputs": [],
   "source": [
    "import numpy as np\n",
    "import matplotlib.pyplot as plt\n",
    "from data_structures import PatientData\n",
    "from decoders import ConceptDecoder, SingleResultsManager\n",
    "from sklearn.svm import LinearSVC\n",
    "\n",
    "# Load patient data\n",
    "p562 = PatientData(pid='562')\n",
    "p563 = PatientData(pid='563')\n",
    "\n",
    "# Set a threshold for neuron filtering\n",
    "THRESHOLD = 0.1  # firing rate threshold"
   ]
  },
  {
   "cell_type": "code",
   "execution_count": null,
   "metadata": {},
   "outputs": [],
   "source": [
    "p563_fr_neurons = p563.filter_neurons_by_fr(\n",
    "    neurons=p563.neurons, \n",
    "    window=(p563.times_dict['movie_start_rel'], p563.times_dict['preSleep_recall_start_rel']), \n",
    "    threshold=THRESHOLD\n",
    ")\n",
    "p563_mtl_fr_neurons = p563.filter_mtl_neurons(neurons=p563_fr_neurons)\n",
    "\n",
    "# Define characters/concepts to analyze\n",
    "characters = [\n",
    "    'J.Bauer',\n",
    "    'C.OBrian',\n",
    "    'T.Lennox',\n",
    "    'A.Fayed',\n",
    "    'M.OBrian',\n",
    "    'N.Yassir',\n",
    "    'K.Hayes',\n",
    "    'B.Buchanan'\n",
    "]\n",
    "\n",
    "# Create concept pairs (traditional approach)\n",
    "concept_pairs = []\n",
    "for i, c1 in enumerate(characters):\n",
    "    for c2 in characters[i+1:]:\n",
    "        concept_pairs.append((c1, c2))"
   ]
  },
  {
   "cell_type": "code",
   "execution_count": null,
   "metadata": {},
   "outputs": [],
   "source": [
    "concept_pairs"
   ]
  },
  {
   "cell_type": "code",
   "execution_count": null,
   "metadata": {},
   "outputs": [],
   "source": [
    "government_group = ('J.Bauer', 'T.Lennox', 'N.Yassir', 'K.Hayes')\n",
    "ctc_group = ('C.OBrian', 'M.OBrian', 'B.Buchanan')\n",
    "concept_groups = [\n",
    "    (government_group, ctc_group)  # Government officials vs CTU technical staff\n",
    "]"
   ]
  },
  {
   "cell_type": "markdown",
   "metadata": {},
   "source": [
    "check for old usage is still good"
   ]
  },
  {
   "cell_type": "code",
   "execution_count": null,
   "metadata": {},
   "outputs": [],
   "source": [
    "manager = SingleResultsManager(\n",
    "    patient_data=p563,\n",
    "    concept_items=concept_pairs,  # Note: using 'concept_items' instead of 'concept_pairs'\n",
    "    epoch='movie',\n",
    "    classifier=LinearSVC(random_state=42),\n",
    "    standardize=True,\n",
    "    pseudo=False,  # Use pseudopopulations for balanced datasets\n",
    "    neurons=p563_mtl_fr_neurons\n",
    ")\n",
    "\n",
    "# Run decoding with multiple iterations for robust results\n",
    "num_iterations = 1\n",
    "manager.run_decoding(num_iter=num_iterations)  # Using the new method name\n"
   ]
  },
  {
   "cell_type": "code",
   "execution_count": null,
   "metadata": {},
   "outputs": [],
   "source": [
    "manager.plot_train_test_performance_heatmap()"
   ]
  },
  {
   "cell_type": "markdown",
   "metadata": {},
   "source": [
    "now checking group decoding"
   ]
  },
  {
   "cell_type": "code",
   "execution_count": null,
   "metadata": {},
   "outputs": [],
   "source": [
    "concept_groups = [\n",
    "    (\n",
    "        ('A.Fayed', 'R.Wallace', 'T.Lennox', 'N.Yassir'),\n",
    "        ('K.Hayes', 'M.OBrian', 'J.Bauer', 'C.Manning')\n",
    "    )\n",
    "]"
   ]
  },
  {
   "cell_type": "code",
   "execution_count": null,
   "metadata": {},
   "outputs": [],
   "source": [
    "group_manager = SingleResultsManager(\n",
    "    patient_data=p563,\n",
    "    concept_items=concept_groups,  # Note: using 'concept_items' instead of 'concept_pairs'\n",
    "    epoch='movie',\n",
    "    classifier=LinearSVC(random_state=42),\n",
    "    standardize=True,\n",
    "    pseudo=False,  # Use pseudopopulations for balanced datasets\n",
    "    neurons=p563_mtl_fr_neurons\n",
    ")\n"
   ]
  },
  {
   "cell_type": "code",
   "execution_count": null,
   "metadata": {},
   "outputs": [],
   "source": [
    "num_iterations = 1\n",
    "group_manager.run_decoding(num_iter=num_iterations)  # Using the new method name\n"
   ]
  },
  {
   "cell_type": "code",
   "execution_count": null,
   "metadata": {},
   "outputs": [],
   "source": [
    "group_manager.plot_group_performance()"
   ]
  },
  {
   "cell_type": "markdown",
   "metadata": {},
   "source": []
  },
  {
   "cell_type": "code",
   "execution_count": null,
   "metadata": {},
   "outputs": [],
   "source": []
  }
 ],
 "metadata": {
  "kernelspec": {
   "display_name": ".venv",
   "language": "python",
   "name": "python3"
  },
  "language_info": {
   "codemirror_mode": {
    "name": "ipython",
    "version": 3
   },
   "file_extension": ".py",
   "mimetype": "text/x-python",
   "name": "python",
   "nbconvert_exporter": "python",
   "pygments_lexer": "ipython3",
   "version": "3.11.6"
  }
 },
 "nbformat": 4,
 "nbformat_minor": 2
}
