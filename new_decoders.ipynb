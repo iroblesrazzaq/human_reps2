{
 "cells": [
  {
   "cell_type": "code",
   "execution_count": null,
   "metadata": {},
   "outputs": [],
   "source": [
    "from data_structures import PatientData\n",
    "from sklearn.base import BaseEstimator\n",
    "from sklearn.svm import LinearSVC\n",
    "from sklearn.preprocessing import StandardScaler\n",
    "from typing import Tuple\n",
    "from sklearn.model_selection import train_test_split\n",
    "import numpy as np\n",
    "from dataclasses import dataclass\n",
    "from typing import Dict, List\n",
    "from sklearn.metrics import accuracy_score, roc_auc_score\n",
    "import matplotlib.pyplot as plt\n",
    "import seaborn as sns\n",
    "from decoders import DecodingResult, ConceptDecoder, ConceptPairDataset, DecodingResultsManager"
   ]
  },
  {
   "cell_type": "markdown",
   "metadata": {},
   "source": [
    "todo: imp dropout - add firing rate filter method to patient data to return neurons above threshold, implement by area stuff"
   ]
  },
  {
   "cell_type": "code",
   "execution_count": null,
   "metadata": {},
   "outputs": [],
   "source": [
    "p566 = PatientData(pid='566')\n",
    "p563 = PatientData(pid='563')\n",
    "p562 = PatientData(pid='562')"
   ]
  },
  {
   "cell_type": "code",
   "execution_count": null,
   "metadata": {},
   "outputs": [],
   "source": [
    "p566_mtl_filtered_neurons = p566.filter_mtl_neurons(p566.filter_neurons_by_fr((p566.times_dict['movie_start_rel'], p566.times_dict['preSleep_recall_start_rel']), threshold=0.1))\n",
    "p563_mtl_filtered_neurons = p563.filter_neurons_by_fr((p563.times_dict['movie_start_rel'], p563.times_dict['preSleep_recall_start_rel']), threshold=0.1)\n",
    "p562_mtl_filtered_neurons = p562.filter_neurons_by_fr((p562.times_dict['movie_start_rel'], p562.times_dict['preSleep_recall_start_rel']), threshold=0.1)\n"
   ]
  },
  {
   "cell_type": "code",
   "execution_count": null,
   "metadata": {},
   "outputs": [],
   "source": [
    "concept_pairs_to_decode = []\n",
    "concept_list = list(p566.movie_df.columns)\n",
    "#remove non-concept columns if they exist\n",
    "concept_list = [col for col in concept_list if col not in ['Frame', 'time_sec', 'rel_corrected_time_sec', 'uncorrected_time_sec']]\n",
    "\n",
    "\n",
    "# doing to 5 for time\n",
    "\n",
    "for i, concept1 in enumerate(concept_list[:]):\n",
    "    for concept2 in concept_list[i+1:]: #avoid duplicates and self-pairs\n",
    "        concept_pairs_to_decode.append((concept1, concept2))\n",
    "\n",
    "print(f\"Number of concept pairs to decode: {len(concept_pairs_to_decode)}\")\n",
    "print(concept_pairs_to_decode[:5]) # Print first 5 pairs as example"
   ]
  },
  {
   "cell_type": "code",
   "execution_count": null,
   "metadata": {},
   "outputs": [],
   "source": [
    "pseudo_manager562 = DecodingResultsManager(\n",
    "    patient_data=p562,\n",
    "    concept_pairs=concept_pairs_to_decode,\n",
    "    epoch='movie',\n",
    "    standardize=False,\n",
    "    pseudo=True,\n",
    "    neurons=p562_filtered_neurons\n",
    "    # no kwargs -> default\n",
    ")\n",
    "\n",
    "normal_manager562 = DecodingResultsManager(\n",
    "    patient_data=p562,\n",
    "    concept_pairs=concept_pairs_to_decode,\n",
    "    epoch='movie',\n",
    "    standardize=False,\n",
    "    pseudo=False,\n",
    "    neurons=p562_filtered_neurons)"
   ]
  },
  {
   "cell_type": "code",
   "execution_count": null,
   "metadata": {},
   "outputs": [],
   "source": [
    "pseudo_manager563 = DecodingResultsManager(\n",
    "    patient_data=p563,\n",
    "    concept_pairs=concept_pairs_to_decode,\n",
    "    epoch='movie',\n",
    "    standardize=False,\n",
    "    pseudo=True,\n",
    "    neurons=p563_filtered_neurons\n",
    "    # no kwargs -> default\n",
    ")\n",
    "\n",
    "normal_manager563 = DecodingResultsManager(\n",
    "    patient_data=p563,\n",
    "    concept_pairs=concept_pairs_to_decode,\n",
    "    epoch='movie',\n",
    "    standardize=False,\n",
    "    pseudo=False,\n",
    "    neurons=p563_filtered_neurons)"
   ]
  },
  {
   "cell_type": "code",
   "execution_count": null,
   "metadata": {},
   "outputs": [],
   "source": [
    "pseudo_manager566 = DecodingResultsManager(\n",
    "    patient_data=p566,\n",
    "    concept_pairs=concept_pairs_to_decode,\n",
    "    epoch='movie',\n",
    "    standardize=False,\n",
    "    pseudo=True,\n",
    "    neurons=p566_filtered_neurons\n",
    "    # no kwargs -> default\n",
    ")\n",
    "\n",
    "normal_manager566 = DecodingResultsManager(\n",
    "    patient_data=p566,\n",
    "    concept_pairs=concept_pairs_to_decode,\n",
    "    epoch='movie',\n",
    "    standardize=False,\n",
    "    pseudo=False,\n",
    "    neurons=p566_filtered_neurons)"
   ]
  },
  {
   "cell_type": "markdown",
   "metadata": {},
   "source": [
    "todo: \n",
    "mtl neurons only - add filtering function\n",
    "combine patients\n",
    "8 best concepts"
   ]
  },
  {
   "cell_type": "code",
   "execution_count": null,
   "metadata": {},
   "outputs": [],
   "source": [
    "for title, manager in {'normal_manager566': normal_manager566, 'normal_manager563': normal_manager563, 'normal_manager562': normal_manager562,\n",
    "                       'pseudo_manager566': pseudo_manager566, 'pseudo_manager563': pseudo_manager563, 'pseudo_manager562': pseudo_manager562}.items():\n",
    "    manager.run_decoding_for_pairs(num_iter=5)\n",
    "    manager.plot_train_test_performance_heatmap(metric='test_accuracy')\n",
    "    plt.savefig(f\"{title}_test_accuracy\")\n",
    "    manager.plot_train_test_performance_heatmap() # auc roc\n",
    "    plt.savefig(f\"{title}_roc_auc\")\n",
    "\n"
   ]
  }
 ],
 "metadata": {
  "kernelspec": {
   "display_name": ".venv",
   "language": "python",
   "name": "python3"
  },
  "language_info": {
   "codemirror_mode": {
    "name": "ipython",
    "version": 3
   },
   "file_extension": ".py",
   "mimetype": "text/x-python",
   "name": "python",
   "nbconvert_exporter": "python",
   "pygments_lexer": "ipython3",
   "version": "3.11.6"
  }
 },
 "nbformat": 4,
 "nbformat_minor": 2
}
