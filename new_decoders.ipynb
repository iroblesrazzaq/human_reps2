{
 "cells": [
  {
   "cell_type": "code",
   "execution_count": 2,
   "metadata": {},
   "outputs": [],
   "source": [
    "from data_structures import PatientData\n",
    "from sklearn.base import BaseEstimator\n",
    "from sklearn.svm import LinearSVC\n",
    "from sklearn.preprocessing import StandardScaler\n",
    "from typing import Tuple\n",
    "from sklearn.model_selection import train_test_split\n",
    "import numpy as np\n",
    "from dataclasses import dataclass\n",
    "from typing import Dict, List\n",
    "from sklearn.metrics import accuracy_score, roc_auc_score\n",
    "import matplotlib.pyplot as plt\n",
    "import seaborn as sns\n",
    "from decoders import DecodingResult, ConceptDecoder, ConceptPairDataset, DecodingResultsManager\n"
   ]
  },
  {
   "cell_type": "code",
   "execution_count": 3,
   "metadata": {},
   "outputs": [],
   "source": [
    "import warnings\n",
    "from sklearn.exceptions import ConvergenceWarning\n",
    "\n",
    "# Suppress convergence warnings from scikit-learn\n",
    "warnings.filterwarnings(\"ignore\", category=ConvergenceWarning)\n"
   ]
  },
  {
   "cell_type": "markdown",
   "metadata": {},
   "source": [
    "todo: imp dropout - add firing rate filter method to patient data to return neurons above threshold, implement by area stuff\n",
    "\n",
    "\n",
    "combined patients -- cant i call pseudo/normal datasets indepdently then hstack after? onset dims are same so it should work"
   ]
  },
  {
   "cell_type": "code",
   "execution_count": 4,
   "metadata": {},
   "outputs": [
    {
     "name": "stdout",
     "output_type": "stream",
     "text": [
      "./Data/40m_act_24_S06E01_30fps_character_frames.csv\n",
      "./Data/40m_act_24_S06E01_30fps_character_frames.csv\n",
      "./Data/40m_act_24_S06E01_30fps_character_frames.csv\n"
     ]
    }
   ],
   "source": [
    "p566 = PatientData(pid='566')\n",
    "p563 = PatientData(pid='563')\n",
    "p562 = PatientData(pid='562')"
   ]
  },
  {
   "cell_type": "code",
   "execution_count": 5,
   "metadata": {},
   "outputs": [],
   "source": [
    "THRESHOLD = 0.1\n",
    "\n",
    "\n",
    "p566_fr_neurons = p566.filter_neurons_by_fr(neurons=p566.neurons, window=(p566.times_dict['movie_start_rel'], p566.times_dict['preSleep_recall_start_rel']), threshold=THRESHOLD)\n",
    "p566_mtl_fr_neurons = p566.filter_mtl_neurons(neurons=p566_fr_neurons)\n",
    "\n",
    "p563_fr_neurons = p563.filter_neurons_by_fr(neurons=p563.neurons, window=(p563.times_dict['movie_start_rel'], p563.times_dict['preSleep_recall_start_rel']), threshold=THRESHOLD)\n",
    "p563_mtl_fr_neurons = p563.filter_mtl_neurons(neurons=p563_fr_neurons)\n",
    "\n",
    "p562_fr_neurons = p562.filter_neurons_by_fr(neurons=p562.neurons, window=(p562.times_dict['movie_start_rel'], p562.times_dict['preSleep_recall_start_rel']), threshold=THRESHOLD)\n",
    "p562_mtl_fr_neurons = p562.filter_mtl_neurons(neurons=p562_fr_neurons)"
   ]
  },
  {
   "cell_type": "code",
   "execution_count": 6,
   "metadata": {},
   "outputs": [
    {
     "name": "stdout",
     "output_type": "stream",
     "text": [
      "89\n",
      "3\n",
      "\n",
      "111\n",
      "64\n",
      "\n",
      "75\n",
      "18\n"
     ]
    }
   ],
   "source": [
    "\n",
    "print(len(p562_fr_neurons))\n",
    "print(len(p562_mtl_fr_neurons))\n",
    "print()\n",
    "print(len(p563_fr_neurons))\n",
    "print(len(p563_mtl_fr_neurons))\n",
    "print()\n",
    "print(len(p566_fr_neurons))\n",
    "print(len(p566_mtl_fr_neurons))"
   ]
  },
  {
   "cell_type": "code",
   "execution_count": 7,
   "metadata": {},
   "outputs": [
    {
     "name": "stdout",
     "output_type": "stream",
     "text": [
      "Number of concept pairs to decode: 136\n",
      "[('A.Amar', 'A.Fayed'), ('A.Amar', 'B.Buchanan'), ('A.Amar', 'C.Manning'), ('A.Amar', 'C.OBrian'), ('A.Amar', 'J.Bauer')]\n"
     ]
    }
   ],
   "source": [
    "concept_pairs_to_decode = []\n",
    "concept_list = list(p566.movie_df.columns)\n",
    "#remove non-concept columns if they exist\n",
    "concept_list = [col for col in concept_list if col not in ['Frame', 'time_sec', 'rel_corrected_time_sec', 'uncorrected_time_sec']]\n",
    "\n",
    "\n",
    "# doing to 5 for time\n",
    "\n",
    "for i, concept1 in enumerate(concept_list[:]):\n",
    "    for concept2 in concept_list[i+1:]: #avoid duplicates and self-pairs\n",
    "        concept_pairs_to_decode.append((concept1, concept2))\n",
    "\n",
    "print(f\"Number of concept pairs to decode: {len(concept_pairs_to_decode)}\")\n",
    "print(concept_pairs_to_decode[:5]) # Print first 5 pairs as example"
   ]
  },
  {
   "cell_type": "code",
   "execution_count": null,
   "metadata": {},
   "outputs": [],
   "source": [
    "pseudo_manager562 = DecodingResultsManager(\n",
    "    patient_data=p562,\n",
    "    concept_pairs=concept_pairs_to_decode,\n",
    "    epoch='movie',\n",
    "    standardize=False,\n",
    "    pseudo=True,\n",
    "    neurons=p562_mtl_fr_neurons    # no kwargs -> default\n",
    ")\n",
    "\n",
    "normal_manager562 = DecodingResultsManager(\n",
    "    patient_data=p562,\n",
    "    concept_pairs=concept_pairs_to_decode,\n",
    "    epoch='movie',\n",
    "    standardize=False,\n",
    "    pseudo=False,\n",
    "    neurons=p562_mtl_fr_neurons)"
   ]
  },
  {
   "cell_type": "code",
   "execution_count": null,
   "metadata": {},
   "outputs": [],
   "source": [
    "pseudo_manager563 = DecodingResultsManager(\n",
    "    patient_data=p563,\n",
    "    concept_pairs=concept_pairs_to_decode,\n",
    "    epoch='movie',\n",
    "    standardize=False,\n",
    "    pseudo=True,\n",
    "    neurons=p563_mtl_fr_neurons\n",
    "    # no kwargs -> default\n",
    ")\n",
    "\n",
    "normal_manager563 = DecodingResultsManager(\n",
    "    patient_data=p563,\n",
    "    concept_pairs=concept_pairs_to_decode,\n",
    "    epoch='movie',\n",
    "    standardize=False,\n",
    "    pseudo=False,\n",
    "    neurons=p563_mtl_fr_neurons)"
   ]
  },
  {
   "cell_type": "code",
   "execution_count": null,
   "metadata": {},
   "outputs": [],
   "source": [
    "pseudo_manager566 = DecodingResultsManager(\n",
    "    patient_data=p566,\n",
    "    concept_pairs=concept_pairs_to_decode,\n",
    "    epoch='movie',\n",
    "    standardize=False,\n",
    "    pseudo=True,\n",
    "    neurons=p566_mtl_fr_neurons\n",
    "    # no kwargs -> default\n",
    ")\n",
    "\n",
    "normal_manager566 = DecodingResultsManager(\n",
    "    patient_data=p566,\n",
    "    concept_pairs=concept_pairs_to_decode,\n",
    "    epoch='movie',\n",
    "    standardize=False,\n",
    "    pseudo=False,\n",
    "    neurons=p566_mtl_fr_neurons)"
   ]
  },
  {
   "cell_type": "markdown",
   "metadata": {},
   "source": [
    "todo: \n",
    "\n",
    "combine patients\n",
    "\n",
    "8 best concepts"
   ]
  },
  {
   "cell_type": "markdown",
   "metadata": {},
   "source": [
    "single patient normal + pseudopops"
   ]
  },
  {
   "cell_type": "code",
   "execution_count": null,
   "metadata": {},
   "outputs": [],
   "source": [
    "for title, manager in {'normal_manager566': normal_manager566, 'normal_manager563': normal_manager563, 'normal_manager562': normal_manager562,\n",
    "                       'pseudo_manager566': pseudo_manager566, 'pseudo_manager563': pseudo_manager563, 'pseudo_manager562': pseudo_manager562}.items():\n",
    "    manager.run_decoding_for_pairs(num_iter=5)\n",
    "    manager.plot_train_test_performance_heatmap(metric='test_accuracy')\n",
    "    plt.savefig(f\"{title}_test_accuracy\")\n",
    "    manager.plot_train_test_performance_heatmap() # auc roc\n",
    "    plt.savefig(f\"{title}_roc_auc\")\n",
    "\n"
   ]
  },
  {
   "cell_type": "markdown",
   "metadata": {},
   "source": [
    "combined patients (with mtl)"
   ]
  },
  {
   "cell_type": "code",
   "execution_count": null,
   "metadata": {},
   "outputs": [],
   "source": []
  },
  {
   "cell_type": "markdown",
   "metadata": {},
   "source": [
    "testing that mtl neuron filtering actually works"
   ]
  },
  {
   "cell_type": "code",
   "execution_count": 13,
   "metadata": {},
   "outputs": [],
   "source": [
    "concept_pairs = [('A.Amar', 'C.Manning')]\n",
    "\n",
    "x = DecodingResultsManager(\n",
    "    patient_data=p566,\n",
    "    concept_pairs=concept_pairs,\n",
    "    epoch='movie',\n",
    "    standardize=False,\n",
    "    pseudo=False,\n",
    "    neurons=p566_mtl_fr_neurons)\n"
   ]
  },
  {
   "cell_type": "code",
   "execution_count": 14,
   "metadata": {},
   "outputs": [
    {
     "name": "stderr",
     "output_type": "stream",
     "text": [
      "Decoding for 566: 100%|██████████| 1/1 [00:02<00:00,  2.82s/it]\n"
     ]
    }
   ],
   "source": [
    "x.run_decoding_for_pairs()"
   ]
  },
  {
   "cell_type": "code",
   "execution_count": 22,
   "metadata": {},
   "outputs": [
    {
     "data": {
      "text/plain": [
       "(15, 169)"
      ]
     },
     "execution_count": 22,
     "metadata": {},
     "output_type": "execute_result"
    }
   ],
   "source": [
    "x.results[('A.Amar', 'C.Manning')][0].data['X_test'].shape"
   ]
  },
  {
   "cell_type": "markdown",
   "metadata": {},
   "source": [
    "shit, we're not using mtl neurons\n"
   ]
  },
  {
   "cell_type": "code",
   "execution_count": null,
   "metadata": {},
   "outputs": [],
   "source": []
  }
 ],
 "metadata": {
  "kernelspec": {
   "display_name": ".venv",
   "language": "python",
   "name": "python3"
  },
  "language_info": {
   "codemirror_mode": {
    "name": "ipython",
    "version": 3
   },
   "file_extension": ".py",
   "mimetype": "text/x-python",
   "name": "python",
   "nbconvert_exporter": "python",
   "pygments_lexer": "ipython3",
   "version": "3.11.6"
  }
 },
 "nbformat": 4,
 "nbformat_minor": 2
}
