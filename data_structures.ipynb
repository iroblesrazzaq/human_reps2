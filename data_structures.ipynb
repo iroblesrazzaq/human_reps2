{
 "cells": [
  {
   "cell_type": "markdown",
   "metadata": {},
   "source": [
    "File to create and test data structures for this project"
   ]
  },
  {
   "cell_type": "code",
   "execution_count": 2,
   "metadata": {},
   "outputs": [],
   "source": [
    "from dataclasses import dataclass\n",
    "from typing import Dict, List, Optional, Tuple\n",
    "import numpy as np\n",
    "import pandas as pd"
   ]
  },
  {
   "cell_type": "code",
   "execution_count": null,
   "metadata": {},
   "outputs": [],
   "source": [
    "### modify this, will need more specificity\n",
    "### so essentially we will have recording info classes in patient data for movie, preSleepFR, postSleepFR\n",
    "### we will have a method to take the recording from just the start/end unix or relative time lol\n",
    "### more robust to just deal with absolute unix? we will have to make relative at some point\n",
    "### better for the PatientData class to have relative information\n",
    "\n",
    "@dataclass\n",
    "class RecordingInfo:\n",
    "    \"\"\"Contains metadata about a recording session\"\"\"\n",
    "    start_unix: float\n",
    "    end_unix: float\n",
    "    experiment_type: str  # e.g., 'movie', 'preSleep', 'postSleep'"
   ]
  },
  {
   "cell_type": "code",
   "execution_count": null,
   "metadata": {},
   "outputs": [],
   "source": [
    "class PatientData:\n",
    "    \"\"\"\n",
    "    Contains all relevant information for a single patient\n",
    "\n",
    "    - movie drift adjusted times with CSV (create new csv to use every time or run code every time -- not expensive so will do second for reproducibility)\n",
    "    - patient info from all exp epochs (start unix, pre/post, etc etc)\n",
    "    - recordings!!  \n",
    "        - dictionary with all neurons and firing times? but also want to be able to filter by brain area\n",
    "\n",
    "\n",
    "    - methods for analysis?\n",
    "        - can be functions for general, not specific to patient\n",
    "        - make analysis class?\n",
    "            - would have functions for heatmaps, decoders, etc?\n",
    "        - these will clutter patient class, I mainly just want all data for a single patient concentrated in one place, easy to use and access\n",
    "    \"\"\"\n",
    "\n",
    "    def __init__(self, ):\n",
    "        pass"
   ]
  },
  {
   "cell_type": "markdown",
   "metadata": {},
   "source": [
    "brainstorming of patient class, has good thoughts\n",
    "\n",
    "\n",
    "    Contains all relevant information for a single patient\n",
    "\n",
    "    - movie drift adjusted times with CSV (create new csv to use every time or run code every time -- not expensive so will do second for reproducibility)\n",
    "    - patient info from all exp epochs (start unix, pre/post, etc etc)\n",
    "    - recordings!!  \n",
    "        - dictionary with all neurons and firing times? but also want to be able to filter by brain area\n",
    "\n",
    "\n",
    "    - methods for analysis?\n",
    "        - can be functions for general, not specific to patient\n",
    "        - make analysis class?\n",
    "            - would have functions for heatmaps, decoders, etc?\n",
    "        - these will clutter patient class, I mainly just want all data for a single patient concentrated in one place, easy to use and access\n"
   ]
  },
  {
   "cell_type": "markdown",
   "metadata": {},
   "source": []
  }
 ],
 "metadata": {
  "kernelspec": {
   "display_name": ".venv",
   "language": "python",
   "name": "python3"
  },
  "language_info": {
   "codemirror_mode": {
    "name": "ipython",
    "version": 3
   },
   "file_extension": ".py",
   "mimetype": "text/x-python",
   "name": "python",
   "nbconvert_exporter": "python",
   "pygments_lexer": "ipython3",
   "version": "3.11.6"
  }
 },
 "nbformat": 4,
 "nbformat_minor": 2
}
