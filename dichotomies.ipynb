{
 "cells": [
  {
   "cell_type": "code",
   "execution_count": 2,
   "metadata": {},
   "outputs": [],
   "source": [
    "from itertools import combinations\n"
   ]
  },
  {
   "cell_type": "markdown",
   "metadata": {},
   "source": [
    "generate 35 permutations of 4 groups - 8 choose 4, but will some repeats where incl = x, excl = y vs incl = y, excl = x"
   ]
  },
  {
   "cell_type": "code",
   "execution_count": null,
   "metadata": {},
   "outputs": [
    {
     "data": {
      "text/plain": [
       "[[{'A.Fayed', 'N.Yassir', 'R.Wallace', 'T.Lennox'},\n",
       "  {'C.Manning', 'J.Bauer', 'K.Hayes', 'M.OBrian'}],\n",
       " [{'A.Fayed', 'K.Hayes', 'R.Wallace', 'T.Lennox'},\n",
       "  {'C.Manning', 'J.Bauer', 'M.OBrian', 'N.Yassir'}],\n",
       " [{'A.Fayed', 'M.OBrian', 'R.Wallace', 'T.Lennox'},\n",
       "  {'C.Manning', 'J.Bauer', 'K.Hayes', 'N.Yassir'}],\n",
       " [{'A.Fayed', 'J.Bauer', 'R.Wallace', 'T.Lennox'},\n",
       "  {'C.Manning', 'K.Hayes', 'M.OBrian', 'N.Yassir'}],\n",
       " [{'A.Fayed', 'C.Manning', 'R.Wallace', 'T.Lennox'},\n",
       "  {'J.Bauer', 'K.Hayes', 'M.OBrian', 'N.Yassir'}]]"
      ]
     },
     "execution_count": 8,
     "metadata": {},
     "output_type": "execute_result"
    }
   ],
   "source": [
    "# how to actually do this -- \n",
    "best_concepts = [\n",
    "    \"A.Fayed\", \n",
    "    \"R.Wallace\", \n",
    "    \"T.Lennox\", \n",
    "    \"N.Yassir\", \n",
    "    \"K.Hayes\", \n",
    "    \"M.OBrian\", \n",
    "    \"J.Bauer\", \n",
    "    \"C.Manning\"\n",
    "]\n",
    "\n",
    "permutations = list(combinations(best_concepts, 4))\n",
    "\n",
    "for i, p in enumerate(permutations[:5]):\n",
    "    complement = set([c for c in best_concepts if c not in p])\n",
    "    permutations[i] = [set(p), complement]\n",
    "\n",
    "unique = [] # keep all whose thing is first? how to do\n",
    "for \n"
   ]
  },
  {
   "cell_type": "code",
   "execution_count": null,
   "metadata": {},
   "outputs": [],
   "source": []
  }
 ],
 "metadata": {
  "kernelspec": {
   "display_name": ".venv",
   "language": "python",
   "name": "python3"
  },
  "language_info": {
   "codemirror_mode": {
    "name": "ipython",
    "version": 3
   },
   "file_extension": ".py",
   "mimetype": "text/x-python",
   "name": "python",
   "nbconvert_exporter": "python",
   "pygments_lexer": "ipython3",
   "version": "3.11.6"
  }
 },
 "nbformat": 4,
 "nbformat_minor": 2
}
