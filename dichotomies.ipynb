{
 "cells": [
  {
   "cell_type": "code",
   "execution_count": null,
   "metadata": {},
   "outputs": [],
   "source": [
    "from itertools import combinations\n",
    "\n"
   ]
  },
  {
   "cell_type": "markdown",
   "metadata": {},
   "source": [
    "generate 35 permutations of 4 groups - 8 choose 4, but will some repeats where incl = x, excl = y vs incl = y, excl = x"
   ]
  },
  {
   "cell_type": "code",
   "execution_count": null,
   "metadata": {},
   "outputs": [],
   "source": [
    "def generate_consistent_combinations(strings_list):\n",
    "    all_combos = list(combinations(strings_list, 4))\n",
    "    unique_pairs = []\n",
    "    seen = set()\n",
    "    \n",
    "    for combo in all_combos:\n",
    "        # Find the complement (the 4 items not in this combination)\n",
    "        complement = tuple(c for c in strings_list if c not in combo)\n",
    "        \n",
    "        # order is alphabetic so we end up with duplicate (s1, s2), (s1, s2) instead of (s1, s2), (s2, s1)\n",
    "        if combo < complement:\n",
    "            pair = (combo, complement)\n",
    "        else:\n",
    "            pair = (complement, combo)\n",
    "\n",
    "        pair_str = str(pair)  \n",
    "        if pair_str not in seen:\n",
    "            unique_pairs.append(pair)\n",
    "            seen.add(pair_str)\n",
    "    \n",
    "    return unique_pairs"
   ]
  },
  {
   "cell_type": "code",
   "execution_count": null,
   "metadata": {},
   "outputs": [],
   "source": [
    "best_concepts = [\n",
    "    \"A.Fayed\", \n",
    "    \"R.Wallace\", \n",
    "    \"T.Lennox\", \n",
    "    \"N.Yassir\", \n",
    "    \"K.Hayes\", \n",
    "    \"M.OBrian\", \n",
    "    \"J.Bauer\", \n",
    "    \"C.Manning\"\n",
    "]\n",
    "combinations = generate_consistent_combinations(best_concepts)"
   ]
  },
  {
   "cell_type": "markdown",
   "metadata": {},
   "source": [
    "Next: train decoders on 4x4 concepts\n",
    "\n",
    "don't want overlap of each concept with the 4 opposing concepts - overlap with 3 other ones is fine\n",
    "\n"
   ]
  },
  {
   "cell_type": "code",
   "execution_count": null,
   "metadata": {},
   "outputs": [],
   "source": []
  }
 ],
 "metadata": {
  "kernelspec": {
   "display_name": ".venv",
   "language": "python",
   "name": "python3"
  },
  "language_info": {
   "codemirror_mode": {
    "name": "ipython",
    "version": 3
   },
   "file_extension": ".py",
   "mimetype": "text/x-python",
   "name": "python",
   "nbconvert_exporter": "python",
   "pygments_lexer": "ipython3",
   "version": "3.11.6"
  }
 },
 "nbformat": 4,
 "nbformat_minor": 2
}
