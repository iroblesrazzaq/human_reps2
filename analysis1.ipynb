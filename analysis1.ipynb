{
 "cells": [
  {
   "cell_type": "code",
   "execution_count": 1,
   "metadata": {},
   "outputs": [],
   "source": [
    "import numpy as np\n",
    "import matplotlib.pyplot as plt\n",
    "import seaborn as sns\n",
    "from sklearn.manifold import MDS\n",
    "from sklearn.metrics import pairwise_distances\n",
    "import pandas as pd\n",
    "from tqdm import tqdm\n",
    "import os\n",
    "\n",
    "# Import project-specific modules\n",
    "from data_structures import PatientData\n",
    "from decoders import ConceptDecoder, SingleResultsManager\n",
    "from multi_decoding import MultiResultsManager, plot_multi_patient_heatmap"
   ]
  },
  {
   "cell_type": "code",
   "execution_count": 2,
   "metadata": {},
   "outputs": [
    {
     "name": "stdout",
     "output_type": "stream",
     "text": [
      "./Data/40m_act_24_S06E01_30fps_character_frames.csv\n",
      "./Data/40m_act_24_S06E01_30fps_character_frames.csv\n",
      "./Data/40m_act_24_S06E01_30fps_character_frames.csv\n"
     ]
    }
   ],
   "source": [
    "p562 = PatientData(pid='562')\n",
    "p563 = PatientData(pid='563')\n",
    "p566 = PatientData(pid='566')\n",
    "\n",
    "\n",
    "THRESHOLD = 0.1  # fr threshold\n"
   ]
  },
  {
   "cell_type": "code",
   "execution_count": 3,
   "metadata": {},
   "outputs": [],
   "source": [
    "p562_fr_neurons = p562.filter_neurons_by_fr(\n",
    "    neurons=p562.neurons, \n",
    "    window=(p562.times_dict['movie_start_rel'], p562.times_dict['preSleep_recall_start_rel']), \n",
    "    threshold=THRESHOLD\n",
    ")\n",
    "p562_mtl_fr_neurons = p562.filter_mtl_neurons(neurons=p562_fr_neurons)\n",
    "\n",
    "# Patient 563\n",
    "p563_fr_neurons = p563.filter_neurons_by_fr(\n",
    "    neurons=p563.neurons, \n",
    "    window=(p563.times_dict['movie_start_rel'], p563.times_dict['preSleep_recall_start_rel']), \n",
    "    threshold=THRESHOLD\n",
    ")\n",
    "p563_mtl_fr_neurons = p563.filter_mtl_neurons(neurons=p563_fr_neurons)\n",
    "\n",
    "# Patient 566\n",
    "p566_fr_neurons = p566.filter_neurons_by_fr(\n",
    "    neurons=p566.neurons, \n",
    "    window=(p566.times_dict['movie_start_rel'], p566.times_dict['preSleep_recall_start_rel']), \n",
    "    threshold=THRESHOLD\n",
    ")\n",
    "p566_mtl_fr_neurons = p566.filter_mtl_neurons(neurons=p566_fr_neurons)\n",
    "\n",
    "# Create lists for multi-patient analysis\n",
    "neurons_list = [p562_mtl_fr_neurons, p563_mtl_fr_neurons, p566_mtl_fr_neurons]\n",
    "patient_data_list = [p562, p563, p566]\n"
   ]
  },
  {
   "cell_type": "code",
   "execution_count": 4,
   "metadata": {},
   "outputs": [
    {
     "name": "stdout",
     "output_type": "stream",
     "text": [
      "Patient 562: 3 MTL neurons (from 89 active neurons)\n",
      "Patient 563: 64 MTL neurons (from 111 active neurons)\n",
      "Patient 566: 18 MTL neurons (from 75 active neurons)\n"
     ]
    }
   ],
   "source": [
    "print(f\"Patient 562: {len(p562_mtl_fr_neurons)} MTL neurons (from {len(p562_fr_neurons)} active neurons)\")\n",
    "print(f\"Patient 563: {len(p563_mtl_fr_neurons)} MTL neurons (from {len(p563_fr_neurons)} active neurons)\")\n",
    "print(f\"Patient 566: {len(p566_mtl_fr_neurons)} MTL neurons (from {len(p566_fr_neurons)} active neurons)\")\n"
   ]
  },
  {
   "cell_type": "code",
   "execution_count": 5,
   "metadata": {},
   "outputs": [],
   "source": [
    "selected_concepts = [\n",
    "    'A.Amar',\n",
    "    'A.Fayed',\n",
    "    'B.Buchanan',\n",
    "    'C.Manning',\n",
    "    'C.OBrian',\n",
    "    'J.Bauer',\n",
    "    'K.Hayes',\n",
    "    'M.OBrian',\n",
    "    'N.Yassir',\n",
    "    'R.Wallace',\n",
    "    'T.Lennox',\n",
    "]\n"
   ]
  },
  {
   "cell_type": "code",
   "execution_count": 6,
   "metadata": {},
   "outputs": [
    {
     "name": "stdout",
     "output_type": "stream",
     "text": [
      "Number of concept pairs to decode: 55\n"
     ]
    }
   ],
   "source": [
    "concept_pairs_to_decode = []\n",
    "for i, concept1 in enumerate(selected_concepts):\n",
    "    for concept2 in selected_concepts[i+1:]:  # Avoid duplicates and self-pairs\n",
    "        concept_pairs_to_decode.append((concept1, concept2))\n",
    "\n",
    "print(f\"Number of concept pairs to decode: {len(concept_pairs_to_decode)}\")\n"
   ]
  },
  {
   "cell_type": "code",
   "execution_count": 11,
   "metadata": {},
   "outputs": [
    {
     "name": "stderr",
     "output_type": "stream",
     "text": [
      "Decoding for ['562', '563', '566']:   2%|▏         | 1/55 [00:03<03:22,  3.75s/it]"
     ]
    },
    {
     "name": "stdout",
     "output_type": "stream",
     "text": [
      "Skipping concept pair A.Amar, A.Fayed: Insufficient samples for A.Amar vs A.Fayed\n"
     ]
    },
    {
     "name": "stderr",
     "output_type": "stream",
     "text": [
      "Decoding for ['562', '563', '566']:   7%|▋         | 4/55 [00:37<07:44,  9.11s/it]"
     ]
    },
    {
     "name": "stdout",
     "output_type": "stream",
     "text": [
      "Skipping concept pair A.Amar, C.OBrian: Insufficient samples for A.Amar vs C.OBrian\n"
     ]
    },
    {
     "name": "stderr",
     "output_type": "stream",
     "text": [
      "Decoding for ['562', '563', '566']:  13%|█▎        | 7/55 [01:13<07:52,  9.85s/it]"
     ]
    },
    {
     "name": "stdout",
     "output_type": "stream",
     "text": [
      "Skipping concept pair A.Amar, M.OBrian: Insufficient samples for A.Amar vs M.OBrian\n"
     ]
    },
    {
     "name": "stderr",
     "output_type": "stream",
     "text": [
      "Decoding for ['562', '563', '566']:  16%|█▋        | 9/55 [01:32<07:00,  9.15s/it]"
     ]
    },
    {
     "name": "stdout",
     "output_type": "stream",
     "text": [
      "Skipping concept pair A.Amar, R.Wallace: Insufficient samples for A.Amar vs R.Wallace\n"
     ]
    },
    {
     "name": "stderr",
     "output_type": "stream",
     "text": [
      "Decoding for ['562', '563', '566']:  18%|█▊        | 10/55 [01:47<08:16, 11.02s/it]/Users/ismaelrobles-razzaq/Desktop/research/.venv/lib/python3.11/site-packages/sklearn/svm/_base.py:1235: ConvergenceWarning: Liblinear failed to converge, increase the number of iterations.\n",
      "  warnings.warn(\n",
      "Decoding for ['562', '563', '566']:  29%|██▉       | 16/55 [03:24<10:03, 15.48s/it]/Users/ismaelrobles-razzaq/Desktop/research/.venv/lib/python3.11/site-packages/sklearn/svm/_base.py:1235: ConvergenceWarning: Liblinear failed to converge, increase the number of iterations.\n",
      "  warnings.warn(\n",
      "Decoding for ['562', '563', '566']:  36%|███▋      | 20/55 [04:17<07:09, 12.26s/it]"
     ]
    },
    {
     "name": "stdout",
     "output_type": "stream",
     "text": [
      "Skipping concept pair B.Buchanan, C.Manning: Insufficient samples for B.Buchanan vs C.Manning\n"
     ]
    },
    {
     "name": "stderr",
     "output_type": "stream",
     "text": [
      "Decoding for ['562', '563', '566']:  53%|█████▎    | 29/55 [06:33<05:24, 12.47s/it]"
     ]
    },
    {
     "name": "stdout",
     "output_type": "stream",
     "text": [
      "Skipping concept pair C.Manning, J.Bauer: Insufficient samples for C.Manning vs J.Bauer\n"
     ]
    },
    {
     "name": "stderr",
     "output_type": "stream",
     "text": [
      "/Users/ismaelrobles-razzaq/Desktop/research/.venv/lib/python3.11/site-packages/sklearn/svm/_base.py:1235: ConvergenceWarning: Liblinear failed to converge, increase the number of iterations.\n",
      "  warnings.warn(\n",
      "Decoding for ['562', '563', '566']:  64%|██████▎   | 35/55 [08:08<05:16, 15.85s/it]/Users/ismaelrobles-razzaq/Desktop/research/.venv/lib/python3.11/site-packages/sklearn/svm/_base.py:1235: ConvergenceWarning: Liblinear failed to converge, increase the number of iterations.\n",
      "  warnings.warn(\n",
      "Decoding for ['562', '563', '566']:  67%|██████▋   | 37/55 [08:28<03:42, 12.38s/it]"
     ]
    },
    {
     "name": "stdout",
     "output_type": "stream",
     "text": [
      "Skipping concept pair C.OBrian, M.OBrian: Insufficient samples for C.OBrian vs M.OBrian\n"
     ]
    },
    {
     "name": "stderr",
     "output_type": "stream",
     "text": [
      "Decoding for ['562', '563', '566']:  85%|████████▌ | 47/55 [11:17<02:14, 16.78s/it]/Users/ismaelrobles-razzaq/Desktop/research/.venv/lib/python3.11/site-packages/sklearn/svm/_base.py:1235: ConvergenceWarning: Liblinear failed to converge, increase the number of iterations.\n",
      "  warnings.warn(\n",
      "Decoding for ['562', '563', '566']:  89%|████████▉ | 49/55 [11:35<01:14, 12.43s/it]"
     ]
    },
    {
     "name": "stdout",
     "output_type": "stream",
     "text": [
      "Skipping concept pair K.Hayes, T.Lennox: Insufficient samples for K.Hayes vs T.Lennox\n"
     ]
    },
    {
     "name": "stderr",
     "output_type": "stream",
     "text": [
      "Decoding for ['562', '563', '566']: 100%|██████████| 55/55 [13:10<00:00, 14.38s/it]\n"
     ]
    }
   ],
   "source": [
    "multi_mtl_manager = MultiResultsManager(\n",
    "    patient_data_list=patient_data_list,\n",
    "    concept_pairs=concept_pairs_to_decode,\n",
    "    epoch='movie',\n",
    "    standardize=False,\n",
    "    pseudo=True,  # Use pseudopopulations to balance dataset\n",
    "    neurons_list=neurons_list\n",
    ")\n",
    "\n",
    "# Run decoding with multiple iterations for robustness\n",
    "num_iterations = 3  # Can increase for more stable results\n",
    "multi_mtl_manager.run_decoding_for_pairs(num_iter=num_iterations)\n"
   ]
  },
  {
   "cell_type": "code",
   "execution_count": 21,
   "metadata": {},
   "outputs": [],
   "source": [
    "patient_data_list=[p562]"
   ]
  },
  {
   "cell_type": "code",
   "execution_count": 22,
   "metadata": {},
   "outputs": [],
   "source": [
    "multi_mtl_no_pseudo = MultiResultsManager(patient_data_list=patient_data_list,\n",
    "    concept_pairs=concept_pairs_to_decode,\n",
    "    epoch='movie',\n",
    "    standardize=False,\n",
    "    pseudo=False,  # Use pseudopopulations to balance dataset\n",
    "    neurons_list=neurons_list\n",
    ")\n"
   ]
  },
  {
   "cell_type": "code",
   "execution_count": 23,
   "metadata": {},
   "outputs": [
    {
     "name": "stderr",
     "output_type": "stream",
     "text": [
      "Decoding for ['562']:   2%|▏         | 1/55 [00:01<00:56,  1.04s/it]"
     ]
    },
    {
     "name": "stdout",
     "output_type": "stream",
     "text": [
      "Skipping concept pair A.Amar, A.Fayed: Insufficient samples for A.Amar vs A.Fayed\n"
     ]
    },
    {
     "name": "stderr",
     "output_type": "stream",
     "text": [
      "Decoding for ['562']:   7%|▋         | 4/55 [00:06<01:18,  1.54s/it]"
     ]
    },
    {
     "name": "stdout",
     "output_type": "stream",
     "text": [
      "Skipping concept pair A.Amar, C.OBrian: Insufficient samples for A.Amar vs C.OBrian\n"
     ]
    },
    {
     "name": "stderr",
     "output_type": "stream",
     "text": [
      "Decoding for ['562']:  13%|█▎        | 7/55 [00:11<01:16,  1.59s/it]"
     ]
    },
    {
     "name": "stdout",
     "output_type": "stream",
     "text": [
      "Skipping concept pair A.Amar, M.OBrian: Insufficient samples for A.Amar vs M.OBrian\n"
     ]
    },
    {
     "name": "stderr",
     "output_type": "stream",
     "text": [
      "Decoding for ['562']:  16%|█▋        | 9/55 [00:14<01:10,  1.52s/it]"
     ]
    },
    {
     "name": "stdout",
     "output_type": "stream",
     "text": [
      "Skipping concept pair A.Amar, R.Wallace: Insufficient samples for A.Amar vs R.Wallace\n"
     ]
    },
    {
     "name": "stderr",
     "output_type": "stream",
     "text": [
      "Decoding for ['562']:  36%|███▋      | 20/55 [00:36<01:03,  1.82s/it]"
     ]
    },
    {
     "name": "stdout",
     "output_type": "stream",
     "text": [
      "Skipping concept pair B.Buchanan, C.Manning: Insufficient samples for B.Buchanan vs C.Manning\n"
     ]
    },
    {
     "name": "stderr",
     "output_type": "stream",
     "text": [
      "Decoding for ['562']:  53%|█████▎    | 29/55 [00:55<00:49,  1.91s/it]"
     ]
    },
    {
     "name": "stdout",
     "output_type": "stream",
     "text": [
      "Skipping concept pair C.Manning, J.Bauer: Insufficient samples for C.Manning vs J.Bauer\n"
     ]
    },
    {
     "name": "stderr",
     "output_type": "stream",
     "text": [
      "Decoding for ['562']:  67%|██████▋   | 37/55 [01:11<00:31,  1.78s/it]"
     ]
    },
    {
     "name": "stdout",
     "output_type": "stream",
     "text": [
      "Skipping concept pair C.OBrian, M.OBrian: Insufficient samples for C.OBrian vs M.OBrian\n"
     ]
    },
    {
     "name": "stderr",
     "output_type": "stream",
     "text": [
      "Decoding for ['562']:  89%|████████▉ | 49/55 [01:35<00:10,  1.76s/it]"
     ]
    },
    {
     "name": "stdout",
     "output_type": "stream",
     "text": [
      "Skipping concept pair K.Hayes, T.Lennox: Insufficient samples for K.Hayes vs T.Lennox\n"
     ]
    },
    {
     "name": "stderr",
     "output_type": "stream",
     "text": [
      "Decoding for ['562']: 100%|██████████| 55/55 [01:48<00:00,  1.96s/it]\n"
     ]
    }
   ],
   "source": [
    "\n",
    "multi_mtl_no_pseudo.run_decoding_for_pairs(1)"
   ]
  },
  {
   "cell_type": "code",
   "execution_count": null,
   "metadata": {},
   "outputs": [],
   "source": []
  }
 ],
 "metadata": {
  "kernelspec": {
   "display_name": ".venv",
   "language": "python",
   "name": "python3"
  },
  "language_info": {
   "codemirror_mode": {
    "name": "ipython",
    "version": 3
   },
   "file_extension": ".py",
   "mimetype": "text/x-python",
   "name": "python",
   "nbconvert_exporter": "python",
   "pygments_lexer": "ipython3",
   "version": "3.11.6"
  }
 },
 "nbformat": 4,
 "nbformat_minor": 2
}
